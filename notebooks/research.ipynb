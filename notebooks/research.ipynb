{
 "cells": [
  {
   "cell_type": "code",
   "execution_count": 65,
   "id": "9780a383",
   "metadata": {},
   "outputs": [],
   "source": [
    "import logging\n",
    "\n",
    "logging.basicConfig()\n",
    "logging.getLogger(\"langchain.retrievers.multi_query\").setLevel(logging.INFO)"
   ]
  },
  {
   "cell_type": "code",
   "execution_count": 48,
   "id": "468d8a09",
   "metadata": {},
   "outputs": [
    {
     "name": "stderr",
     "output_type": "stream",
     "text": [
      "Ignoring wrong pointing object 1 65536 (offset 0)\n",
      "Ignoring wrong pointing object 26 65536 (offset 0)\n",
      "Ignoring wrong pointing object 31 65536 (offset 0)\n",
      "Ignoring wrong pointing object 54 65536 (offset 0)\n",
      "Ignoring wrong pointing object 57 65536 (offset 0)\n",
      "Ignoring wrong pointing object 60 65536 (offset 0)\n",
      "Ignoring wrong pointing object 63 65536 (offset 0)\n",
      "Ignoring wrong pointing object 66 65536 (offset 0)\n",
      "Ignoring wrong pointing object 69 65536 (offset 0)\n",
      "Ignoring wrong pointing object 72 65536 (offset 0)\n",
      "Ignoring wrong pointing object 75 65536 (offset 0)\n",
      "Ignoring wrong pointing object 79 65536 (offset 0)\n"
     ]
    },
    {
     "name": "stdout",
     "output_type": "stream",
     "text": [
      "Número de documentos carregados: 40\n",
      "{'producer': 'iText 2.1.5 (by lowagie.com)', 'creator': 'PyPDF', 'creationdate': '2025-05-12T10:58:36-03:00', 'moddate': '2025-05-12T10:58:36-03:00', 'source': 'data\\\\jurisprudencia\\\\STJ_202201522622_tipo_integra_178204788.pdf', 'total_pages': 12, 'page': 0, 'page_label': '1'}\n"
     ]
    }
   ],
   "source": [
    "from langchain_community.document_loaders import PyPDFLoader\n",
    "\n",
    "document_path = [r'data\\jurisprudencia\\STJ_202201522622_tipo_integra_178204788.pdf',\n",
    "                 r'data\\lei\\lei-13709-14-agosto-2018-787077-normaatualizada-pl.pdf']\n",
    "docs = []\n",
    "for file in document_path:\n",
    "    loader = PyPDFLoader(file)\n",
    "    doc = loader.load()\n",
    "    docs.extend(doc)\n",
    "print(f'Número de documentos carregados: {len(docs)}')\n",
    "print(docs[0].metadata)\n"
   ]
  },
  {
   "cell_type": "code",
   "execution_count": 49,
   "id": "0a2a7f5a",
   "metadata": {},
   "outputs": [
    {
     "name": "stdout",
     "output_type": "stream",
     "text": [
      "Total de chunks 253\n"
     ]
    }
   ],
   "source": [
    "from langchain_text_splitters import RecursiveCharacterTextSplitter\n",
    "\n",
    "## Testar:\n",
    "## chunk_size = 500, 1000, 1500, 2000\n",
    "## chunk_overlap = 100, 150, 200, 300\n",
    "split = RecursiveCharacterTextSplitter(\n",
    "    chunk_size=500,\n",
    "    chunk_overlap=50,\n",
    "    add_start_index=True,\n",
    "    separators=[\"\\n\\n\\n\", \"\\n\\n\", \"\\n\", \".\", \";\", \",\"]\n",
    ")\n",
    "splitted_docs = split.split_documents(docs)\n",
    "print(f\"Total de chunks {len(splitted_docs)}\")"
   ]
  },
  {
   "cell_type": "code",
   "execution_count": null,
   "id": "643dc30c",
   "metadata": {},
   "outputs": [],
   "source": [
    "from langchain_huggingface import HuggingFaceEmbeddings\n",
    "import os\n",
    "\n",
    "os.environ[\"HF_HUB_DISABLE_SYMLINKS_WARNING\"] = \"1\"\n",
    "\n",
    "#HuggingFace : rufimelo/Legal-BERTimbau-large ou rufimelo/Legal-BERTimbau-base\n",
    "#embeddings = HuggingFaceEmbeddings(model_name=\"neuralmind/bert-base-portuguese-cased\")\n",
    "\n",
    "embeddings = HuggingFaceEmbeddings(model_name=\"sentence-transformers/paraphrase-multilingual-mpnet-base-v2\")"
   ]
  },
  {
   "cell_type": "code",
   "execution_count": 51,
   "id": "5ce51aab",
   "metadata": {},
   "outputs": [],
   "source": [
    "import faiss\n",
    "from langchain_community.vectorstores import FAISS\n",
    "\n",
    "vector_store = FAISS.from_documents(splitted_docs, \n",
    "                                    embedding=embeddings,\n",
    "                                    )\n",
    "\n",
    "vector_store.save_local(folder_path=\"data\",\n",
    "                        index_name=\"index_db\")\n"
   ]
  },
  {
   "cell_type": "markdown",
   "id": "fa3f8622",
   "metadata": {},
   "source": [
    "## Retriever"
   ]
  },
  {
   "cell_type": "code",
   "execution_count": 52,
   "id": "b156c03b",
   "metadata": {},
   "outputs": [],
   "source": [
    "## Pergunta do usuário\n",
    "question = \"\"\"\n",
    "QUal é a jurisprudência atual sobre a LGPD ?\n",
    "\"\"\""
   ]
  },
  {
   "cell_type": "code",
   "execution_count": 53,
   "id": "390f4f93",
   "metadata": {},
   "outputs": [],
   "source": [
    "## LLM para o retriever\n",
    "from langchain_openai import ChatOpenAI\n",
    "import os\n",
    "\n",
    "OPENAI_API_KEY = os.getenv(\"OPENAI_API_KEY\")\n",
    "llm = ChatOpenAI(model=\"gpt-4o\")"
   ]
  },
  {
   "cell_type": "code",
   "execution_count": 54,
   "id": "c22edde5",
   "metadata": {},
   "outputs": [],
   "source": [
    "from typing import List\n",
    "\n",
    "from langchain_core.output_parsers import BaseOutputParser\n",
    "from langchain_core.prompts import PromptTemplate\n",
    "from pydantic import BaseModel, Field\n",
    "\n",
    "\n",
    "# Output parser will split the LLM result into a list of queries\n",
    "class LineListOutputParser(BaseOutputParser[List[str]]):\n",
    "    \"\"\"Output parser for a list of lines.\"\"\"\n",
    "\n",
    "    def parse(self, text: str) -> List[str]:\n",
    "        lines = text.strip().split(\"\\n\")\n",
    "        return list(filter(None, lines))  # Remove empty lines\n",
    "\n",
    "\n",
    "output_parser = LineListOutputParser()\n",
    "\n",
    "QUERY_PROMPT = PromptTemplate(\n",
    "    input_variables=[\"question\"],\n",
    "    template=\"\"\"Você é um assistente jurídico especializado em LGPD. Sua tarefa é gerar cinco \n",
    "    versões diferentes da pergunta do usuário para recuperar documentos relevantes sobre LGPD \n",
    "    de uma base de dados vetorial. Gere perspectivas alternativas focadas em:\n",
    "    1. Aspectos legais específicos\n",
    "    2. Jurisprudência relacionada\n",
    "    3. Direitos dos titulares\n",
    "    4. Obrigações dos controladores\n",
    "    5. Penalidades e sanções\n",
    "    \n",
    "    Forneça essas perguntas alternativas separadas por quebras de linha.\n",
    "    Pergunta original: {question}\"\"\",\n",
    ")\n",
    "\n",
    "# Chain\n",
    "llm_chain = QUERY_PROMPT | llm | output_parser"
   ]
  },
  {
   "cell_type": "code",
   "execution_count": 55,
   "id": "fb0a3c78",
   "metadata": {},
   "outputs": [
    {
     "data": {
      "text/plain": [
       "20"
      ]
     },
     "execution_count": 55,
     "metadata": {},
     "output_type": "execute_result"
    }
   ],
   "source": [
    "from langchain.retrievers.multi_query import MultiQueryRetriever\n",
    "\n",
    "# Run\n",
    "retriever = MultiQueryRetriever(\n",
    "    retriever=vector_store.as_retriever(\n",
    "        search_type=\"similarity\",\n",
    "        search_kwargs={\"k\": 5}  # Aumentado para mais contexto\n",
    "    ), \n",
    "    llm_chain=llm_chain, \n",
    "    parser_key=\"lines\"\n",
    ")\n",
    "\n",
    "# Results\n",
    "unique_docs = retriever.invoke(question)\n",
    "len(unique_docs)"
   ]
  },
  {
   "cell_type": "code",
   "execution_count": 56,
   "id": "ade1d786",
   "metadata": {},
   "outputs": [],
   "source": [
    "from langchain_openai import ChatOpenAI\n",
    "import os\n",
    "\n",
    "OPENAI_API_KEY = os.getenv(\"OPENAI_API_KEY\")\n",
    "llm = ChatOpenAI(model=\"gpt-4o\")"
   ]
  },
  {
   "cell_type": "code",
   "execution_count": 61,
   "id": "e89525d4",
   "metadata": {},
   "outputs": [],
   "source": [
    "from langchain_core.prompts import ChatPromptTemplate, MessagesPlaceholder\n",
    "\n",
    "system_prompt = \"\"\"\n",
    "    Você é um assistente jurídico especializado na Lei Geral de Proteção de Dados (LGPD - Lei nº 13.709/2018).\n",
    "\n",
    "INSTRUÇÕES PARA RESPOSTA:\n",
    "1. Use as informações disponíveis**: Trabalhe com as informações presentes nos documentos, mesmo que sejam parciais\n",
    "2. Seja útil: Forneça o máximo de informação relevante disponível nos documentos\n",
    "3. Contextualize: Explique conceitos jurídicos quando necessário\n",
    "4. Cite fontes: Quando possível, mencione artigos da LGPD ou referências jurisprudenciais\n",
    "5. Seja claro sobre limitações: Se algum aspecto específico não estiver detalhado, mencione isso, mas forneça o que está disponível\n",
    "\n",
    "IMPORTANTE: Os documentos podem conter informações fragmentadas. Use seu conhecimento jurídico para interpretar e conectar as informações de forma coerente.\n",
    "\n",
    "Apenas declare que a informação não está disponível se realmente NÃO houver NENHUMA informação relevante nos documentos fornecidos.\n",
    "\n",
    "CONTEXTO DOS DOCUMENTOS:\n",
    "{context}\n",
    "\"\"\"\n",
    "\n",
    "prompt = ChatPromptTemplate.from_messages([\n",
    "    (\"system\", system_prompt),\n",
    "    MessagesPlaceholder(variable_name=\"chat_history\", optional=True),\n",
    "    (\"human\", \"{input}\")\n",
    "])"
   ]
  },
  {
   "cell_type": "code",
   "execution_count": 62,
   "id": "51336ec4",
   "metadata": {},
   "outputs": [
    {
     "name": "stdout",
     "output_type": "stream",
     "text": [
      "✓ Sistema RAG configurado com sucesso!\n"
     ]
    }
   ],
   "source": [
    "from langchain.chains.combine_documents import create_stuff_documents_chain\n",
    "from langchain.chains import create_retrieval_chain\n",
    "\n",
    "# Criar chains\n",
    "document_chain = create_stuff_documents_chain(llm, prompt)\n",
    "retrieval_chain = create_retrieval_chain(retriever, document_chain)\n",
    "\n",
    "print(\"✓ Sistema RAG configurado com sucesso!\")\n"
   ]
  },
  {
   "cell_type": "code",
   "execution_count": 63,
   "id": "604509c1",
   "metadata": {},
   "outputs": [
    {
     "name": "stdout",
     "output_type": "stream",
     "text": [
      "=== PERGUNTA ===\n",
      "\n",
      "QUal é a jurisprudência atual sobre a LGPD ?\n",
      "\n",
      "\n",
      "=== RESPOSTA ===\n",
      "A jurisprudência sobre a Lei Geral de Proteção de Dados (LGPD) no Brasil ainda está em desenvolvimento, já que a lei é relativamente recente, tendo sido sancionada em 2018. No entanto, algumas tendências e decisões já começaram a se consolidar. Com base nos documentos fornecidos, posso destacar alguns pontos relevantes:\n",
      "\n",
      "1. **Fundamentação da LGPD em Decisões Judiciais**: A LGPD tem sido invocada em casos relacionados à proteção de dados pessoais, complementando a legislação consumerista, como o Código de Defesa do Consumidor (CDC). Isso é exemplificado pelo uso da LGPD para argumentar sobre a segurança de dados pessoais e potenciais indenizações decorrentes de vazamentos de dados.\n",
      "\n",
      "2. **Dados Sensíveis**: De acordo com o Art. 5º, II, da LGPD, dados considerados sensíveis exigem um tratamento diferenciado. A jurisprudência tem destacado a importância de classificar corretamente os dados para determinar o nível adequado de proteção e possíveis implicações em casos de vazamento.\n",
      "\n",
      "3. **Responsabilidade de Controladores e Operadores**: As decisões judiciais têm abordado a obrigação dos controladores de dados em garantir a segurança e a proteção das informações pessoais, conforme previsto nos artigos 42, 43, 46 e 48 da LGPD. Isso incluiu questões de culpa, especialmente quando há alegação de que o vazamento se deu por culpa de terceiros.\n",
      "\n",
      "4. **Atuação da ANPD**: A Autoridade Nacional de Proteção de Dados (ANPD) é citada nos documentos como sendo o órgão responsável pela fiscalização e pela aplicação de sanções relacionadas à LGPD. Na prática, isso significa que a ANPD tem um papel central na interpretação da LGPD e na garantia de sua implementação adequada.\n",
      "\n",
      "5. **Indenizações**: Há debates na jurisprudência sobre a possibilidade de indenizações por danos futuros ou potenciais em casos de vazamento de dados, com argumentos sobre a necessidade de comprovação de dano efetivo.\n",
      "\n",
      "Esses pontos refletem apenas uma parte da jurisprudência emergente e das interpretações em desenvolvimento em torno da LGPD. É importante acompanhar as decisões mais recentes para obter uma visão mais atualizada e abrangente sobre o tema.\n",
      "\n",
      "=== DOCUMENTOS UTILIZADOS (17) ===\n",
      "\n",
      "Documento 1:\n",
      "Fonte: data\\jurisprudencia\\STJ_202201522622_tipo_integra_178204788.pdf\n",
      "Página: 4\n",
      "Conteúdo: recorrido quanto ao argumento de que não poderia o acórdão ter se fundamentado \n",
      "exclusivamente na legislação consumerista mas, também e principalmente, na Lei Geral \n",
      "de Proteção de Dados Pessoais - LG...\n",
      "\n",
      "Documento 2:\n",
      "Fonte: data\\jurisprudencia\\STJ_202201522622_tipo_integra_178204788.pdf\n",
      "Página: 0\n",
      "Conteúdo: Turma, julgado em 8/6/2020, DJe 17/6/2020.\n",
      "IV - O art. 5º, II, da LGPD, dispõe de forma expressa quais \n",
      "dados podem ser considerados sensíveis e, devido a essa condição, \n",
      "exigir tratamento diferenciad...\n",
      "\n",
      "Documento 3:\n",
      "Fonte: data\\lei\\lei-13709-14-agosto-2018-787077-normaatualizada-pl.pdf\n",
      "Página: 24\n",
      "Conteúdo: competências correlatas de outras entidades ou órgãos da administração pública.  \n",
      "Parágrafo único. A AN PD articulará sua atuação com outros órgãos e entidades com \n",
      "competências sancionatórias e norma...\n"
     ]
    }
   ],
   "source": [
    "try:\n",
    "    result = retrieval_chain.invoke({\n",
    "        \"input\": question,\n",
    "        \"chat_history\": []  # Histórico vazio para primeira consulta\n",
    "    })\n",
    "    \n",
    "    print(\"=== PERGUNTA ===\")\n",
    "    print(question)\n",
    "    \n",
    "    print(\"\\n=== RESPOSTA ===\")\n",
    "    print(result[\"answer\"])\n",
    "    \n",
    "    print(f\"\\n=== DOCUMENTOS UTILIZADOS ({len(result['context'])}) ===\")\n",
    "    for i, doc in enumerate(result[\"context\"][:3]):  # Mostrar apenas os 3 primeiros\n",
    "        print(f\"\\nDocumento {i+1}:\")\n",
    "        print(f\"Fonte: {doc.metadata.get('source', 'N/A')}\")\n",
    "        print(f\"Página: {doc.metadata.get('page', 'N/A')}\")\n",
    "        print(f\"Conteúdo: {doc.page_content[:200]}...\")\n",
    "        \n",
    "except Exception as e:\n",
    "    print(f\"Erro na consulta: {e}\")"
   ]
  },
  {
   "cell_type": "code",
   "execution_count": 64,
   "id": "a69b7a4b",
   "metadata": {},
   "outputs": [
    {
     "name": "stdout",
     "output_type": "stream",
     "text": [
      "=== TESTANDO MÚLTIPLAS CONSULTAS ===\n",
      "\n",
      "📋 PERGUNTA: Quais são os direitos dos titulares de dados na LGPD?\n",
      "📄 DOCUMENTOS: 13\n",
      "✅ RESPOSTA: Os direitos dos titulares de dados pessoais estão previstos no art. 18 da Lei Geral de Proteção de Dados (LGPD). Esses direitos são fundamentais para garantir a proteção da privacidade e dos dados pessoais dos indivíduos. Veja os principais direitos listados na LGPD:\n",
      "\n",
      "1. **Confirmação da existência ...\n",
      "--------------------------------------------------------------------------------\n",
      "\n",
      "📋 PERGUNTA: Qual é o prazo para responder ao titular sobre seus dados?\n",
      "📄 DOCUMENTOS: 13\n",
      "✅ RESPOSTA: A Lei Geral de Proteção de Dados Pessoais (LGPD) não estabelece de maneira explícita um prazo específico para que o controlador responda às solicitações dos titulares sobre seus dados. No entanto, o artigo 18 da LGPD assegura ao titular, dentre vários direitos, o de obter do controlador:\n",
      "\n",
      "- Confirma...\n",
      "--------------------------------------------------------------------------------\n"
     ]
    }
   ],
   "source": [
    "def consultar_lgpd(pergunta: str, chat_history: list = None):\n",
    "    \"\"\"\n",
    "    Função para fazer consultas ao sistema RAG LGPD\n",
    "    \"\"\"\n",
    "    if chat_history is None:\n",
    "        chat_history = []\n",
    "    \n",
    "    try:\n",
    "        result = retrieval_chain.invoke({\n",
    "            \"input\": pergunta,\n",
    "            \"chat_history\": chat_history\n",
    "        })\n",
    "        \n",
    "        return {\n",
    "            \"pergunta\": pergunta,\n",
    "            \"resposta\": result[\"answer\"],\n",
    "            \"documentos_fonte\": len(result[\"context\"]),\n",
    "            \"contexto\": result[\"context\"]\n",
    "        }\n",
    "    except Exception as e:\n",
    "        return {\n",
    "            \"pergunta\": pergunta,\n",
    "            \"resposta\": f\"Erro ao processar consulta: {e}\",\n",
    "            \"documentos_fonte\": 0,\n",
    "            \"contexto\": []\n",
    "        }\n",
    "\n",
    "# Exemplo de uso da função\n",
    "perguntas_teste = [\n",
    "    \"Quais são os direitos dos titulares de dados na LGPD?\",\n",
    "    \"Qual é o prazo para responder ao titular sobre seus dados?\",\n",
    "    \"Quais são as penalidades previstas na LGPD?\",\n",
    "    \"O que diz a jurisprudência sobre consentimento na LGPD?\"\n",
    "]\n",
    "\n",
    "print(\"=== TESTANDO MÚLTIPLAS CONSULTAS ===\")\n",
    "for pergunta in perguntas_teste[:2]:  # Testar apenas 2 para não sobrecarregar\n",
    "    resultado = consultar_lgpd(pergunta)\n",
    "    print(f\"\\n📋 PERGUNTA: {resultado['pergunta']}\")\n",
    "    print(f\"📄 DOCUMENTOS: {resultado['documentos_fonte']}\")\n",
    "    print(f\"✅ RESPOSTA: {resultado['resposta'][:300]}...\")\n",
    "    print(\"-\" * 80)"
   ]
  }
 ],
 "metadata": {
  "kernelspec": {
   "display_name": ".venv",
   "language": "python",
   "name": "python3"
  },
  "language_info": {
   "codemirror_mode": {
    "name": "ipython",
    "version": 3
   },
   "file_extension": ".py",
   "mimetype": "text/x-python",
   "name": "python",
   "nbconvert_exporter": "python",
   "pygments_lexer": "ipython3",
   "version": "3.12.10"
  }
 },
 "nbformat": 4,
 "nbformat_minor": 5
}
